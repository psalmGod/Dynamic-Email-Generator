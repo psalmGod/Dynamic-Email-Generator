{
 "cells": [
  {
   "cell_type": "code",
   "execution_count": 2,
   "metadata": {},
   "outputs": [],
   "source": [
    "import math"
   ]
  },
  {
   "cell_type": "code",
   "execution_count": 3,
   "metadata": {},
   "outputs": [],
   "source": [
    "class Car:\n",
    "    def __init__(self, engine_on, x, y, direction):\n",
    "        self.engine_on = engine_on # boolean => (True: on or False: off)\n",
    "        self.x = x # float\n",
    "        self.y = y # float\n",
    "        self.direction = direction # float\n",
    "        self.speed = 10 # constant\n",
    "\n",
    "    def switch_engine(self):\n",
    "        if self.engine_on == True: # if the engine is on\n",
    "            self.engine_on = False # turn off the engine\n",
    "        else:   # if the engine is not on\n",
    "            self.engine_on = True # turn on the engine\n",
    "\n",
    "    def drive(self, duration):\n",
    "        if self.engine_on == True: # if the engine is on\n",
    "            change_in_distance = self.speed * duration # distance = speed * time\n",
    "\n",
    "            change_in_x = change_in_distance * math.cos(self.direction)\n",
    "            change_in_y = change_in_distance * math.sin(self.direction)\n",
    "\n",
    "            # new positions\n",
    "            self.x += change_in_x # new x after driving\n",
    "            self.y += change_in_y # new y after driving\n",
    "\n",
    "    def turn(self, angle):\n",
    "        if self.engine_on == True: # if the engine is on\n",
    "            new_angle = angle * (math.pi / 180) # convert angle to radians\n",
    "            self.direction = (self.direction + new_angle) % (2 * math.pi) # new direction after turning\n",
    "\n",
    "    def state(self):\n",
    "        print('engine_on:', self.engine_on)\n",
    "        print('x:', self.x)\n",
    "        print('y:', self.y)\n",
    "        print('direction:', self.direction)\n",
    "        print('speed:', self.speed)"
   ]
  },
  {
   "cell_type": "code",
   "execution_count": 11,
   "metadata": {},
   "outputs": [],
   "source": [
    "# engine is off\n",
    "# x = 3\n",
    "# y = -1\n",
    "# direction = 0.5\n",
    "new_car = Car(False, 3, -1, 0.5)\n",
    "new_car2 = Car(True, 4, 5, 1)"
   ]
  },
  {
   "cell_type": "code",
   "execution_count": 5,
   "metadata": {},
   "outputs": [
    {
     "name": "stdout",
     "output_type": "stream",
     "text": [
      "engine_on: False\n",
      "x: 3\n",
      "y: -1\n",
      "direction: 0.5\n",
      "speed: 10\n"
     ]
    }
   ],
   "source": [
    "new_car.state()"
   ]
  },
  {
   "cell_type": "code",
   "execution_count": 7,
   "metadata": {},
   "outputs": [
    {
     "name": "stdout",
     "output_type": "stream",
     "text": [
      "engine_on: False\n",
      "x: 3\n",
      "y: -1\n",
      "direction: 0.5\n",
      "speed: 10\n"
     ]
    }
   ],
   "source": [
    "new_car.drive(3)\n",
    "new_car.state()"
   ]
  },
  {
   "cell_type": "code",
   "execution_count": 8,
   "metadata": {},
   "outputs": [
    {
     "name": "stdout",
     "output_type": "stream",
     "text": [
      "engine_on: True\n",
      "x: 3\n",
      "y: -1\n",
      "direction: 0.5\n",
      "speed: 10\n"
     ]
    }
   ],
   "source": [
    "new_car.switch_engine()\n",
    "new_car.state()"
   ]
  },
  {
   "cell_type": "code",
   "execution_count": 9,
   "metadata": {},
   "outputs": [
    {
     "name": "stdout",
     "output_type": "stream",
     "text": [
      "engine_on: True\n",
      "x: 20.551651237807455\n",
      "y: 8.58851077208406\n",
      "direction: 0.5\n",
      "speed: 10\n"
     ]
    }
   ],
   "source": [
    "new_car.drive(2)\n",
    "new_car.state()"
   ]
  },
  {
   "cell_type": "code",
   "execution_count": 10,
   "metadata": {},
   "outputs": [
    {
     "name": "stdout",
     "output_type": "stream",
     "text": [
      "engine_on: True\n",
      "x: 20.551651237807455\n",
      "y: 8.58851077208406\n",
      "direction: 1.0235987755982987\n",
      "speed: 10\n"
     ]
    }
   ],
   "source": [
    "new_car.turn(30)\n",
    "new_car.state()"
   ]
  },
  {
   "cell_type": "code",
   "execution_count": 13,
   "metadata": {},
   "outputs": [
    {
     "name": "stdout",
     "output_type": "stream",
     "text": [
      "engine_on: True\n",
      "x: 36.41813835208838\n",
      "y: 55.48825908847379\n",
      "direction: 1\n",
      "speed: 10\n"
     ]
    }
   ],
   "source": [
    "new_car2.drive(3)\n",
    "new_car2.state()"
   ]
  },
  {
   "cell_type": "code",
   "execution_count": 14,
   "metadata": {},
   "outputs": [
    {
     "name": "stdout",
     "output_type": "stream",
     "text": [
      "engine_on: False\n",
      "x: 3\n",
      "y: -1\n",
      "direction: 0.5\n",
      "speed: 10\n"
     ]
    }
   ],
   "source": [
    "new_car.drive(5)\n",
    "new_car.state()"
   ]
  },
  {
   "cell_type": "code",
   "execution_count": null,
   "metadata": {},
   "outputs": [],
   "source": []
  }
 ],
 "metadata": {
  "interpreter": {
   "hash": "85328f80e913ed7b8f8064e7a0d355c2403cb576dd7b4e5fd11b845e3c42788d"
  },
  "kernelspec": {
   "display_name": "Python 3 (ipykernel)",
   "language": "python",
   "name": "python3"
  },
  "language_info": {
   "codemirror_mode": {
    "name": "ipython",
    "version": 3
   },
   "file_extension": ".py",
   "mimetype": "text/x-python",
   "name": "python",
   "nbconvert_exporter": "python",
   "pygments_lexer": "ipython3",
   "version": "3.9.7"
  }
 },
 "nbformat": 4,
 "nbformat_minor": 2
}
